{
 "cells": [
  {
   "cell_type": "code",
   "execution_count": 36,
   "metadata": {},
   "outputs": [
    {
     "name": "stdout",
     "output_type": "stream",
     "text": [
      "Thermal efficiency for this 2 stage steam turbine is  42.37 %\n"
     ]
    }
   ],
   "source": [
    "from iapws import IAPWS97 as Ia #impoting the steam table library\n",
    "\n",
    "k = 273.15 #conversion to kelvin\n",
    "p1 = 5/1000 # all pressures are in mPa\n",
    "p2s = 10\n",
    "p3 = p2s\n",
    "t3 = 560+k\n",
    "p4s = 1.8\n",
    "p5 = 1.8 # if working with a single stage steam turbine put zero in for p5\n",
    "t5 = 560+k\n",
    "p6s = p1\n",
    "pe = 1  # pump efficiency\n",
    "te = 0.94 # turbine efficiency\n",
    "tl = 0 #temp low for 2nd law efficiency\n",
    "\n",
    "enthp1 = Ia(P = p1, x = 0)\n",
    "h1= enthp1.h\n",
    "v1 = enthp1.v\n",
    "\n",
    "h2s =v1*1000 *(p2s-p1)+h1\n",
    "h2 = h2s / pe\n",
    "\n",
    "enthp3 = Ia(P = p3, T = t3)\n",
    "h3 = enthp3.h\n",
    "s3 = enthp3.s\n",
    "\n",
    "enthp4 = Ia(P = p4s, s = s3)\n",
    "h4s = enthp4.h\n",
    "h4 = h3 - te*(h3-h4s)\n",
    "\n",
    "if p5 == 0:\n",
    "    effsingle = ((h3-h4)-(h2-h1))/(h3-h2)\n",
    "    c = round(effsingle*100,2)\n",
    "    print('Thermal efficiency for this single stage steam turbine is ' ,c,'%')\n",
    "else:\n",
    "    enthp5 = Ia(P=p5, T = t5)\n",
    "    h5 = enthp5.h\n",
    "    s5 = enthp5.s\n",
    "\n",
    "    enthp6 = Ia(P = p6s, s=s5)\n",
    "    h6s = enthp6.h\n",
    "    h6 = h5 - te*(h5-h6s)\n",
    "\n",
    "    efficiency = ((h3-h4)+(h5-h6)-(h2-h1))/((h3-h2)+(h5-h4))\n",
    "    \n",
    "    b = round(efficiency*100,2)\n",
    "    print('Thermal efficiency for this 2 stage steam turbine is ' ,b,'%')\n",
    "if tl != 0:\n",
    "    secondlaw = 1-(tl/t3)\n",
    "    a = round(secondlaw*100,2)\n",
    "    print('Second Law Efficiency ' ,a,'%')\n"
   ]
  },
  {
   "cell_type": "code",
   "execution_count": null,
   "metadata": {},
   "outputs": [],
   "source": []
  }
 ],
 "metadata": {
  "kernelspec": {
   "display_name": "Python 3",
   "language": "python",
   "name": "python3"
  },
  "language_info": {
   "codemirror_mode": {
    "name": "ipython",
    "version": 3
   },
   "file_extension": ".py",
   "mimetype": "text/x-python",
   "name": "python",
   "nbconvert_exporter": "python",
   "pygments_lexer": "ipython3",
   "version": "3.8.3"
  }
 },
 "nbformat": 4,
 "nbformat_minor": 4
}
